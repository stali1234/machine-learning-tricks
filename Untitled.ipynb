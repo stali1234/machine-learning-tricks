{
 "cells": [
  {
   "cell_type": "code",
   "execution_count": 6,
   "id": "framed-catalog",
   "metadata": {},
   "outputs": [
    {
     "name": "stdout",
     "output_type": "stream",
     "text": [
      "hello world\n"
     ]
    }
   ],
   "source": [
    "a = \"hello world\" \n",
    "print(a)"
   ]
  },
  {
   "cell_type": "code",
   "execution_count": 12,
   "id": "ahead-accountability",
   "metadata": {},
   "outputs": [
    {
     "name": "stdout",
     "output_type": "stream",
     "text": [
      "[1, 2, 3, 4, 5]\n"
     ]
    }
   ],
   "source": [
    "numbers = \"1 2 3 4 5\".split()\n",
    "n = [int(x) for x in numbers]\n",
    "print(n)"
   ]
  },
  {
   "cell_type": "code",
   "execution_count": 14,
   "id": "worse-algorithm",
   "metadata": {},
   "outputs": [
    {
     "name": "stdout",
     "output_type": "stream",
     "text": [
      "bulbasaur\n",
      "pikachu\n",
      "charmender\n",
      "invalid\n",
      "invalid\n"
     ]
    }
   ],
   "source": [
    "for i in n:\n",
    "    if i==1:\n",
    "        print(\"bulbasaur\")\n",
    "    elif i==2:\n",
    "        print(\"pikachu\")\n",
    "    elif i==3:\n",
    "        print(\"charmender\")\n",
    "    else:\n",
    "        print(\"invalid\")\n",
    "    "
   ]
  },
  {
   "cell_type": "code",
   "execution_count": 16,
   "id": "least-binary",
   "metadata": {},
   "outputs": [],
   "source": [
    "#dicionaires in python (hashmaps)\n",
    "pokemon_map = {\n",
    "    1 : \"bulbasaur\",\n",
    "    2 : \"pikachu\",\n",
    "    3 : \"charmender\",\n",
    "    \n",
    "}"
   ]
  },
  {
   "cell_type": "code",
   "execution_count": 17,
   "id": "confirmed-commitment",
   "metadata": {},
   "outputs": [
    {
     "data": {
      "text/plain": [
       "'bulbasaur'"
      ]
     },
     "execution_count": 17,
     "metadata": {},
     "output_type": "execute_result"
    }
   ],
   "source": [
    " pokemon_map[1]"
   ]
  },
  {
   "cell_type": "code",
   "execution_count": 18,
   "id": "compliant-amendment",
   "metadata": {},
   "outputs": [
    {
     "name": "stdout",
     "output_type": "stream",
     "text": [
      "pokemon not found\n"
     ]
    }
   ],
   "source": [
    "if pokemon_map.get(5) is None:\n",
    "        print(\"pokemon not found\")\n",
    "else:\n",
    "        "
   ]
  },
  {
   "cell_type": "code",
   "execution_count": 20,
   "id": "early-supplier",
   "metadata": {},
   "outputs": [
    {
     "data": {
      "text/plain": [
       "5"
      ]
     },
     "execution_count": 20,
     "metadata": {},
     "output_type": "execute_result"
    }
   ],
   "source": [
    "import numpy as np\n",
    "np.absolute(-5)"
   ]
  },
  {
   "cell_type": "code",
   "execution_count": 24,
   "id": "billion-eligibility",
   "metadata": {},
   "outputs": [
    {
     "name": "stdout",
     "output_type": "stream",
     "text": [
      "<class 'numpy.ndarray'>\n",
      "(4,)\n"
     ]
    }
   ],
   "source": [
    "a = np.array([1,2,3,4])\n",
    "print(type(a))\n",
    "print(a.shape)"
   ]
  },
  {
   "cell_type": "code",
   "execution_count": 28,
   "id": "expected-belarus",
   "metadata": {},
   "outputs": [
    {
     "name": "stdout",
     "output_type": "stream",
     "text": [
      "[1 2 3 4]\n"
     ]
    }
   ],
   "source": [
    "b = np.array([[1,2,3,4],[5,6,7,8]])\n",
    "print(a)"
   ]
  },
  {
   "cell_type": "code",
   "execution_count": 29,
   "id": "sorted-course",
   "metadata": {},
   "outputs": [
    {
     "data": {
      "text/plain": [
       "array([[1, 5],\n",
       "       [2, 6],\n",
       "       [3, 7],\n",
       "       [4, 8]])"
      ]
     },
     "execution_count": 29,
     "metadata": {},
     "output_type": "execute_result"
    }
   ],
   "source": [
    "b.T"
   ]
  },
  {
   "cell_type": "code",
   "execution_count": 30,
   "id": "sustainable-cooperation",
   "metadata": {},
   "outputs": [
    {
     "data": {
      "text/plain": [
       "array([[ 30,  70],\n",
       "       [ 70, 174]])"
      ]
     },
     "execution_count": 30,
     "metadata": {},
     "output_type": "execute_result"
    }
   ],
   "source": [
    "np.dot(b,b.T) #dot product"
   ]
  },
  {
   "cell_type": "code",
   "execution_count": 32,
   "id": "adjusted-melbourne",
   "metadata": {},
   "outputs": [
    {
     "data": {
      "text/plain": [
       "array([90, 75, 69, 60, 63, 67, 73, 66, 64, 62])"
      ]
     },
     "execution_count": 32,
     "metadata": {},
     "output_type": "execute_result"
    }
   ],
   "source": [
    "np.random.randint(60,100,10)"
   ]
  },
  {
   "cell_type": "code",
   "execution_count": 36,
   "id": "alone-football",
   "metadata": {},
   "outputs": [],
   "source": [
    "matrix = np.random.randint(60,100,(5,5))"
   ]
  },
  {
   "cell_type": "code",
   "execution_count": 37,
   "id": "challenging-idaho",
   "metadata": {},
   "outputs": [
    {
     "data": {
      "text/plain": [
       "99"
      ]
     },
     "execution_count": 37,
     "metadata": {},
     "output_type": "execute_result"
    }
   ],
   "source": [
    "#maximum element \n",
    "np.max(matrix)"
   ]
  },
  {
   "cell_type": "code",
   "execution_count": 44,
   "id": "useful-paraguay",
   "metadata": {},
   "outputs": [
    {
     "data": {
      "text/plain": [
       "3"
      ]
     },
     "execution_count": 44,
     "metadata": {},
     "output_type": "execute_result"
    }
   ],
   "source": [
    "#print the minmum elements located\n",
    "\n",
    "a = np.array([0,1,2,-8,6,6,68,10])\n",
    "np.argmin(a)"
   ]
  },
  {
   "cell_type": "code",
   "execution_count": 40,
   "id": "aquatic-eating",
   "metadata": {},
   "outputs": [
    {
     "name": "stdout",
     "output_type": "stream",
     "text": [
      "(array([-8,  0,  1,  2,  6,  8, 10]), array([1, 1, 1, 1, 1, 1, 1]))\n"
     ]
    }
   ],
   "source": [
    "#print the unique elements\n",
    "print(np.unique(a , return_counts = True))"
   ]
  },
  {
   "cell_type": "code",
   "execution_count": 46,
   "id": "postal-incident",
   "metadata": {},
   "outputs": [
    {
     "name": "stdout",
     "output_type": "stream",
     "text": [
      "(array([-8,  0,  1,  2,  6, 10, 68]), array([1, 1, 1, 1, 2, 1, 1]))\n"
     ]
    }
   ],
   "source": [
    "#program to find out the number with the highest frequency with the given aray\n",
    "b = np.unique(a, return_counts =True)\n",
    "print(b)"
   ]
  },
  {
   "cell_type": "code",
   "execution_count": 43,
   "id": "marked-calgary",
   "metadata": {},
   "outputs": [
    {
     "name": "stdout",
     "output_type": "stream",
     "text": [
      "6\n"
     ]
    }
   ],
   "source": [
    "print(np.argmax(a))"
   ]
  },
  {
   "cell_type": "code",
   "execution_count": 47,
   "id": "pediatric-dubai",
   "metadata": {},
   "outputs": [
    {
     "data": {
      "text/plain": [
       "array([[84, 60, 66, 97, 60],\n",
       "       [69, 98, 93, 80, 72],\n",
       "       [92, 87, 71, 60, 86],\n",
       "       [82, 90, 89, 74, 91],\n",
       "       [69, 97, 97, 99, 83]])"
      ]
     },
     "execution_count": 47,
     "metadata": {},
     "output_type": "execute_result"
    }
   ],
   "source": [
    "#slicing for an array\n",
    "matrix"
   ]
  },
  {
   "cell_type": "code",
   "execution_count": 48,
   "id": "german-quantity",
   "metadata": {},
   "outputs": [
    {
     "data": {
      "text/plain": [
       "array([[87, 71, 60],\n",
       "       [90, 89, 74]])"
      ]
     },
     "execution_count": 48,
     "metadata": {},
     "output_type": "execute_result"
    }
   ],
   "source": [
    "matrix[2:4 ,1:4]"
   ]
  },
  {
   "cell_type": "code",
   "execution_count": 51,
   "id": "frequent-worry",
   "metadata": {},
   "outputs": [
    {
     "name": "stdout",
     "output_type": "stream",
     "text": [
      "[1 2 3 4 5] [ 4  7 12 19 28]\n"
     ]
    }
   ],
   "source": [
    "#3.data visualization\n",
    "import matplotlib.pyplot as plt\n",
    "x =  np.array([1,2,3,4,5])\n",
    "y = x**2 + 3\n",
    "print(x , y)"
   ]
  },
  {
   "cell_type": "code",
   "execution_count": 63,
   "id": "dated-preserve",
   "metadata": {},
   "outputs": [],
   "source": [
    "plt.style.use('seaborn')"
   ]
  },
  {
   "cell_type": "code",
   "execution_count": 66,
   "id": "pretty-rehabilitation",
   "metadata": {},
   "outputs": [
    {
     "data": {
      "image/png": "[encoded data removed]",
      "text/plain": [
       "<Figure size 576x396 with 1 Axes>"
      ]
     },
     "metadata": {},
     "output_type": "display_data"
    }
   ],
   "source": [
    " \n",
    "plt.plot(x,y , label=\"stock price\")\n",
    "plt.plot(x,x**2,label = \"stock price 1\")\n",
    "plt.title(\"my line plot\")\n",
    "plt.xlabel(\"timestap\")\n",
    "plt.ylabel(\"price\")\n",
    "plt.legend()\n",
    "plt.show()"
   ]
  },
  {
   "cell_type": "code",
   "execution_count": 67,
   "id": "absent-passion",
   "metadata": {},
   "outputs": [
    {
     "ename": "ModuleNotFoundError",
     "evalue": "No module named 'cv2'",
     "output_type": "error",
     "traceback": [
      "\u001b[0;31m---------------------------------------------------------------------------\u001b[0m",
      "\u001b[0;31mModuleNotFoundError\u001b[0m                       Traceback (most recent call last)",
      "\u001b[0;32m<ipython-input-67-60b1c03776bc>\u001b[0m in \u001b[0;36m<module>\u001b[0;34m\u001b[0m\n\u001b[0;32m----> 1\u001b[0;31m \u001b[0;32mimport\u001b[0m \u001b[0mcv2\u001b[0m\u001b[0;34m\u001b[0m\u001b[0;34m\u001b[0m\u001b[0m\n\u001b[0m\u001b[1;32m      2\u001b[0m \u001b[0;34m\u001b[0m\u001b[0m\n",
      "\u001b[0;31mModuleNotFoundError\u001b[0m: No module named 'cv2'"
     ]
    }
   ],
   "source": [
    " import cv2\n",
    "    "
   ]
  },
  {
   "cell_type": "code",
   "execution_count": null,
   "id": "standing-survivor",
   "metadata": {},
   "outputs": [],
   "source": []
  },
  {
   "cell_type": "code",
   "execution_count": null,
   "id": "judicial-jordan",
   "metadata": {},
   "outputs": [],
   "source": []
  }
 ],
 "metadata": {
  "kernelspec": {
   "display_name": "Python 3",
   "language": "python",
   "name": "python3"
  },
  "language_info": {
   "codemirror_mode": {
    "name": "ipython",
    "version": 3
   },
   "file_extension": ".py",
   "mimetype": "text/x-python",
   "name": "python",
   "nbconvert_exporter": "python",
   "pygments_lexer": "ipython3",
   "version": "3.8.0"
  }
 },
 "nbformat": 4,
 "nbformat_minor": 5
}
