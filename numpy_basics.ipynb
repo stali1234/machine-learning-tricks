{
  "nbformat": 4,
  "nbformat_minor": 0,
  "metadata": {
    "colab": {
      "name": "numpy_basics.ipynb",
      "provenance": [],
      "authorship_tag": "ABX9TyM/taqelHY0KyP34ZhFxi5o",
      "include_colab_link": true
    },
    "kernelspec": {
      "name": "python3",
      "display_name": "Python 3"
    },
    "language_info": {
      "name": "python"
    }
  },
  "cells": [
    {
      "cell_type": "markdown",
      "metadata": {
        "id": "view-in-github",
        "colab_type": "text"
      },
      "source": [
        "<a href=\"https://colab.research.google.com/github/stali1234/python/blob/main/numpy_basics.ipynb\" target=\"_parent\"><img src=\"https://colab.research.google.com/assets/colab-badge.svg\" alt=\"Open In Colab\"/></a>"
      ]
    },
    {
      "cell_type": "code",
      "metadata": {
        "colab": {
          "base_uri": "https://localhost:8080/"
        },
        "id": "4rd73XUk3zCL",
        "outputId": "8c38719c-c3a0-463f-a65b-60f74669cf2f"
      },
      "source": [
        "import numpy as np\n",
        "a=np.array([1,2,3,4,5])\n",
        "print(type(a))"
      ],
      "execution_count": 2,
      "outputs": [
        {
          "output_type": "stream",
          "text": [
            "<class 'numpy.ndarray'>\n"
          ],
          "name": "stdout"
        }
      ]
    },
    {
      "cell_type": "code",
      "metadata": {
        "colab": {
          "base_uri": "https://localhost:8080/"
        },
        "id": "Xe19vwsl4G-e",
        "outputId": "66cb0ffd-0b06-4384-c9e9-29aecb407f55"
      },
      "source": [
        "b = np.array([[1],[2],[3],[4]])\n",
        "print(b)\n",
        "print(b.shape)"
      ],
      "execution_count": 5,
      "outputs": [
        {
          "output_type": "stream",
          "text": [
            "[[1]\n",
            " [2]\n",
            " [3]\n",
            " [4]]\n",
            "(4, 1)\n"
          ],
          "name": "stdout"
        }
      ]
    },
    {
      "cell_type": "code",
      "metadata": {
        "colab": {
          "base_uri": "https://localhost:8080/"
        },
        "id": "rPMOggBF5Ksu",
        "outputId": "8f6563e1-9b7a-45c7-bc2c-54c3902d0a86"
      },
      "source": [
        "c = np.array([[1,2,3],[4,5,6]])\n",
        "print(c)\n",
        "print(c.shape)"
      ],
      "execution_count": 7,
      "outputs": [
        {
          "output_type": "stream",
          "text": [
            "[[1 2 3]\n",
            " [4 5 6]]\n",
            "(2, 3)\n"
          ],
          "name": "stdout"
        }
      ]
    },
    {
      "cell_type": "code",
      "metadata": {
        "colab": {
          "base_uri": "https://localhost:8080/"
        },
        "id": "k5J7Iz4b5dFe",
        "outputId": "0772f7ba-6b30-4a1c-dbbf-9e3cad383ed4"
      },
      "source": [
        "a =     np.zeros((3,3))\n",
        "print(a)"
      ],
      "execution_count": 9,
      "outputs": [
        {
          "output_type": "stream",
          "text": [
            "[[0. 0. 0.]\n",
            " [0. 0. 0.]\n",
            " [0. 0. 0.]]\n"
          ],
          "name": "stdout"
        }
      ]
    },
    {
      "cell_type": "code",
      "metadata": {
        "colab": {
          "base_uri": "https://localhost:8080/"
        },
        "id": "_9_osV2r5luF",
        "outputId": "48de0148-8434-49eb-d7f0-dc4d7fc9d1a9"
      },
      "source": [
        "a = np.ones((3,3))\n",
        "print(a)"
      ],
      "execution_count": 12,
      "outputs": [
        {
          "output_type": "stream",
          "text": [
            "[[1. 1. 1.]\n",
            " [1. 1. 1.]\n",
            " [1. 1. 1.]]\n"
          ],
          "name": "stdout"
        }
      ]
    },
    {
      "cell_type": "code",
      "metadata": {
        "colab": {
          "base_uri": "https://localhost:8080/"
        },
        "id": "mcNDzFVz5qSW",
        "outputId": "d6fac7fc-54f5-4442-e4a3-13cebbf7473b"
      },
      "source": [
        "a = np.full((3,2),5)\n",
        "print(a)"
      ],
      "execution_count": 14,
      "outputs": [
        {
          "output_type": "stream",
          "text": [
            "[[5 5]\n",
            " [5 5]\n",
            " [5 5]]\n"
          ],
          "name": "stdout"
        }
      ]
    },
    {
      "cell_type": "code",
      "metadata": {
        "colab": {
          "base_uri": "https://localhost:8080/"
        },
        "id": "lAccTqNW6J-l",
        "outputId": "61330b1b-28b1-44bc-ba97-db6e0331b111"
      },
      "source": [
        "#identity matrix\n",
        "d = np.eye(4)\n",
        "print(d)"
      ],
      "execution_count": 16,
      "outputs": [
        {
          "output_type": "stream",
          "text": [
            "[[1. 0. 0. 0.]\n",
            " [0. 1. 0. 0.]\n",
            " [0. 0. 1. 0.]\n",
            " [0. 0. 0. 1.]]\n"
          ],
          "name": "stdout"
        }
      ]
    },
    {
      "cell_type": "code",
      "metadata": {
        "colab": {
          "base_uri": "https://localhost:8080/"
        },
        "id": "dr5MKVyT6Qz9",
        "outputId": "1d72ba80-d470-4ccd-9563-e3c38187e777"
      },
      "source": [
        "#\n",
        "randommatrix = np.random.random((2,3))\n",
        "print(randommatrix)\n",
        "randommatrix[1,1:] =1\n",
        "print(randommatrix)"
      ],
      "execution_count": 23,
      "outputs": [
        {
          "output_type": "stream",
          "text": [
            "[[0.32207143 0.73073363 0.81501693]\n",
            " [0.79592389 0.35086662 0.69743913]]\n",
            "[[0.32207143 0.73073363 0.81501693]\n",
            " [0.79592389 1.         1.        ]]\n"
          ],
          "name": "stdout"
        }
      ]
    },
    {
      "cell_type": "code",
      "metadata": {
        "colab": {
          "base_uri": "https://localhost:8080/"
        },
        "id": "t28MkdYX6o2M",
        "outputId": "89850b4b-cb86-4e24-ebb0-99823956892d"
      },
      "source": [
        "z = np.zeros((3,3))\n",
        "print(z)\n",
        "z[1, :] = 5\n",
        "print(z)\n",
        "z[:,-1] = 7\n",
        "print(z)"
      ],
      "execution_count": 30,
      "outputs": [
        {
          "output_type": "stream",
          "text": [
            "[[0. 0. 0.]\n",
            " [0. 0. 0.]\n",
            " [0. 0. 0.]]\n",
            "[[0. 0. 0.]\n",
            " [5. 5. 5.]\n",
            " [0. 0. 0.]]\n",
            "[[0. 0. 7.]\n",
            " [5. 5. 7.]\n",
            " [0. 0. 7.]]\n"
          ],
          "name": "stdout"
        }
      ]
    },
    {
      "cell_type": "code",
      "metadata": {
        "colab": {
          "base_uri": "https://localhost:8080/"
        },
        "id": "hb0HZp7H8MUt",
        "outputId": "5041f745-4592-4f9e-cb86-c5ac5cde62f5"
      },
      "source": [
        "print(z.dtype)"
      ],
      "execution_count": 32,
      "outputs": [
        {
          "output_type": "stream",
          "text": [
            "float64\n"
          ],
          "name": "stdout"
        }
      ]
    },
    {
      "cell_type": "code",
      "metadata": {
        "colab": {
          "base_uri": "https://localhost:8080/"
        },
        "id": "pjs44H__8Ord",
        "outputId": "96916c97-331c-4514-eebd-725daea5d345"
      },
      "source": [
        "x = np.array([[1,2],[3,4]])\n",
        "y = np.array([[5,6],[7,8]])\n",
        "print(x+y)\n",
        "print(np.add(x,y))"
      ],
      "execution_count": 36,
      "outputs": [
        {
          "output_type": "stream",
          "text": [
            "[[ 6  8]\n",
            " [10 12]]\n",
            "[[ 6  8]\n",
            " [10 12]]\n"
          ],
          "name": "stdout"
        }
      ]
    },
    {
      "cell_type": "code",
      "metadata": {
        "colab": {
          "base_uri": "https://localhost:8080/"
        },
        "id": "IQGeI6Ov8uVc",
        "outputId": "6711e9d2-ca3f-4ced-c51d-767685684584"
      },
      "source": [
        "print(x*y)\n",
        "print(np.multiply(x,y))"
      ],
      "execution_count": 39,
      "outputs": [
        {
          "output_type": "stream",
          "text": [
            "[[ 5 12]\n",
            " [21 32]]\n",
            "[[ 5 12]\n",
            " [21 32]]\n"
          ],
          "name": "stdout"
        }
      ]
    },
    {
      "cell_type": "code",
      "metadata": {
        "colab": {
          "base_uri": "https://localhost:8080/"
        },
        "id": "4cJ9DqXt9Gi-",
        "outputId": "568b355e-8dbb-445c-890d-caadd79c2584"
      },
      "source": [
        "print(np.dot(x,y))"
      ],
      "execution_count": 41,
      "outputs": [
        {
          "output_type": "stream",
          "text": [
            "[[19 22]\n",
            " [43 50]]\n"
          ],
          "name": "stdout"
        }
      ]
    },
    {
      "cell_type": "code",
      "metadata": {
        "colab": {
          "base_uri": "https://localhost:8080/"
        },
        "id": "tTt7YFKO9RJl",
        "outputId": "3b8c92d5-a401-43a9-bb20-4f9f8d3c4a8a"
      },
      "source": [
        "#multpplication of vectors\n",
        "a = np.array([1,2,3,4,5])\n",
        "b= np.array([1,2,3,4,5])\n",
        "print(a.dot(b))\n"
      ],
      "execution_count": 43,
      "outputs": [
        {
          "output_type": "stream",
          "text": [
            "55\n"
          ],
          "name": "stdout"
        }
      ]
    },
    {
      "cell_type": "code",
      "metadata": {
        "colab": {
          "base_uri": "https://localhost:8080/"
        },
        "id": "627KtBW89uUf",
        "outputId": "4314ccfc-a14e-4191-c5c6-45346ceba3bd"
      },
      "source": [
        "print(sum(a))"
      ],
      "execution_count": 45,
      "outputs": [
        {
          "output_type": "stream",
          "text": [
            "15\n"
          ],
          "name": "stdout"
        }
      ]
    },
    {
      "cell_type": "code",
      "metadata": {
        "colab": {
          "base_uri": "https://localhost:8080/"
        },
        "id": "znaVG7u7Bt1s",
        "outputId": "1abfcbf4-f62a-4a5c-bb47-a4665057caeb"
      },
      "source": [
        "a = np.array([[1,2,3],[4,5,6]])\n",
        "print(np.sum(a,axis=0))"
      ],
      "execution_count": 49,
      "outputs": [
        {
          "output_type": "stream",
          "text": [
            "[5 7 9]\n"
          ],
          "name": "stdout"
        }
      ]
    },
    {
      "cell_type": "code",
      "metadata": {
        "colab": {
          "base_uri": "https://localhost:8080/"
        },
        "id": "Zmi3jsQOB_sC",
        "outputId": "c5c11f57-a570-498e-af7a-65dc307d6522"
      },
      "source": [
        "a = np.array([1,2,3])\n",
        "print(a)\n",
        "b = np.array([1,2,3])\n",
        "b = b**2\n",
        "print(b)\n",
        "c = np.stack((a,b),axis=0)"
      ],
      "execution_count": 60,
      "outputs": [
        {
          "output_type": "stream",
          "text": [
            "[1 2 3]\n",
            "[1 4 9]\n"
          ],
          "name": "stdout"
        }
      ]
    },
    {
      "cell_type": "code",
      "metadata": {
        "colab": {
          "base_uri": "https://localhost:8080/"
        },
        "id": "JIXs66hgCndT",
        "outputId": "fdbcbfc2-6fd1-4a85-d4cb-4c4945146d6c"
      },
      "source": [
        "a = np.arange(10) + 5\n",
        "print(a)"
      ],
      "execution_count": 67,
      "outputs": [
        {
          "output_type": "stream",
          "text": [
            "[ 5  6  7  8  9 10 11 12 13 14]\n"
          ],
          "name": "stdout"
        }
      ]
    },
    {
      "cell_type": "code",
      "metadata": {
        "colab": {
          "base_uri": "https://localhost:8080/"
        },
        "id": "6m8qq7A2Dx2r",
        "outputId": "c8bba9a7-f611-4478-c613-2d93586bc409"
      },
      "source": [
        "np.random.shuffle(a)\n",
        "print(a)"
      ],
      "execution_count": 72,
      "outputs": [
        {
          "output_type": "stream",
          "text": [
            "[ 7 10 13 14 11 12  8  5  6  9]\n"
          ],
          "name": "stdout"
        }
      ]
    },
    {
      "cell_type": "code",
      "metadata": {
        "colab": {
          "base_uri": "https://localhost:8080/"
        },
        "id": "O7Q1SsrnESwD",
        "outputId": "da6c1933-e7d9-4058-e7da-d48306ee9b18"
      },
      "source": [
        "#returns values from a standard normal distribution\n",
        "\n",
        "a = np.random.randn(2,3)\n",
        "print(a)\n",
        "element = np.random.choice([1,2,3,4,56,4])\n",
        "print(element)"
      ],
      "execution_count": 75,
      "outputs": [
        {
          "output_type": "stream",
          "text": [
            "[[ 0.75712947 -0.08060649  0.52546641]\n",
            " [-0.05583352  0.7299492   0.94271607]]\n",
            "4\n"
          ],
          "name": "stdout"
        }
      ]
    },
    {
      "cell_type": "code",
      "metadata": {
        "id": "zNb8vbNrE607"
      },
      "source": [
        "\n",
        "##some more numpy functions - staticst\n",
        "#min max\n",
        "#mean\n",
        "#median\n",
        "#average\n",
        "#variance\n",
        "#standard devidation"
      ],
      "execution_count": 76,
      "outputs": []
    },
    {
      "cell_type": "code",
      "metadata": {
        "colab": {
          "base_uri": "https://localhost:8080/"
        },
        "id": "Q3oGob62FJJ6",
        "outputId": "21d62f50-04da-489d-c707-de64e7a9f9ef"
      },
      "source": [
        "a = np.array([[1,2,3,4],[5,6,7,87]])\n",
        "print(a)\n",
        "#specify axis for the direction in case of mulidim array\n",
        "print(np.min(a))\n",
        "print(np.max(a,axis=0))\n",
        "#mean average all the elements\n"
      ],
      "execution_count": 80,
      "outputs": [
        {
          "output_type": "stream",
          "text": [
            "[[ 1  2  3  4]\n",
            " [ 5  6  7 87]]\n",
            "1\n",
            "[ 5  6  7 87]\n"
          ],
          "name": "stdout"
        }
      ]
    },
    {
      "cell_type": "code",
      "metadata": {
        "colab": {
          "base_uri": "https://localhost:8080/"
        },
        "id": "uKm4WsAEF4IC",
        "outputId": "669a800d-203a-4eaf-bbd7-bd56e21ebf86"
      },
      "source": [
        "a = np.array([1,2,3,4,4])\n",
        "m = sum(a)/5\n",
        "print(m)\n"
      ],
      "execution_count": 82,
      "outputs": [
        {
          "output_type": "stream",
          "text": [
            "2.8\n"
          ],
          "name": "stdout"
        }
      ]
    },
    {
      "cell_type": "code",
      "metadata": {
        "id": "kmTZHtJSGKj5",
        "outputId": "a2090de2-f62f-47e5-be9a-071186d273d3",
        "colab": {
          "base_uri": "https://localhost:8080/"
        }
      },
      "source": [
        "c =  np.array([1,2,3,4,5])\n",
        "print(np.median(c))"
      ],
      "execution_count": 84,
      "outputs": [
        {
          "output_type": "stream",
          "text": [
            "3.0\n"
          ],
          "name": "stdout"
        }
      ]
    }
  ]
}